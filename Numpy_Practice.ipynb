{
 "cells": [
  {
   "cell_type": "code",
   "execution_count": 1,
   "id": "22e769ac",
   "metadata": {},
   "outputs": [],
   "source": [
    "import numpy as np"
   ]
  },
  {
   "cell_type": "code",
   "execution_count": 2,
   "id": "336157fb",
   "metadata": {},
   "outputs": [],
   "source": [
    "a = np.array([1,2,3])"
   ]
  },
  {
   "cell_type": "code",
   "execution_count": 3,
   "id": "948791fd",
   "metadata": {},
   "outputs": [],
   "source": [
    "b = np.array([[1.0, 2.0, 3.0],\n",
    "              [4  , 5  ,   6]])"
   ]
  },
  {
   "cell_type": "code",
   "execution_count": 4,
   "id": "a9370773",
   "metadata": {},
   "outputs": [],
   "source": [
    "c = np.array([[[1,2,3],\n",
    "               [4,5,6]],\n",
    "             \n",
    "               [[4,5,6],\n",
    "               [7,8,9]]])"
   ]
  },
  {
   "cell_type": "code",
   "execution_count": 5,
   "id": "a8c57f8e",
   "metadata": {},
   "outputs": [],
   "source": [
    "d = np.array([1,2,3,4,5], ndmin = 5)   # Fifth dimentional array"
   ]
  },
  {
   "cell_type": "code",
   "execution_count": 6,
   "id": "9882b3ad",
   "metadata": {},
   "outputs": [
    {
     "data": {
      "text/plain": [
       "((3,), (2, 3), (2, 2, 3))"
      ]
     },
     "execution_count": 6,
     "metadata": {},
     "output_type": "execute_result"
    }
   ],
   "source": [
    "a.shape, b.shape, c.shape    # array shape"
   ]
  },
  {
   "cell_type": "code",
   "execution_count": 7,
   "id": "22e0cae3",
   "metadata": {},
   "outputs": [
    {
     "data": {
      "text/plain": [
       "(1, 2, 3, 5)"
      ]
     },
     "execution_count": 7,
     "metadata": {},
     "output_type": "execute_result"
    }
   ],
   "source": [
    "a.ndim, b.ndim, c.ndim, d.ndim     # array dimention"
   ]
  },
  {
   "cell_type": "code",
   "execution_count": 8,
   "id": "60af7a03",
   "metadata": {},
   "outputs": [
    {
     "data": {
      "text/plain": [
       "(dtype('int32'), dtype('float64'), dtype('int32'))"
      ]
     },
     "execution_count": 8,
     "metadata": {},
     "output_type": "execute_result"
    }
   ],
   "source": [
    "a.dtype, b.dtype, c.dtype    # aray data type"
   ]
  },
  {
   "cell_type": "code",
   "execution_count": 9,
   "id": "b7db511c",
   "metadata": {},
   "outputs": [
    {
     "data": {
      "text/plain": [
       "(12, 48, 48)"
      ]
     },
     "execution_count": 9,
     "metadata": {},
     "output_type": "execute_result"
    }
   ],
   "source": [
    "a.nbytes, b.nbytes, c.nbytes    # array memery useses"
   ]
  },
  {
   "cell_type": "code",
   "execution_count": 10,
   "id": "fe319bdd",
   "metadata": {},
   "outputs": [
    {
     "data": {
      "text/plain": [
       "(<memory at 0x0000021AF1E53640>,\n",
       " <memory at 0x0000021AF1F30BA0>,\n",
       " <memory at 0x0000021AF1DDE6B0>,\n",
       " <memory at 0x0000021AF1F84940>)"
      ]
     },
     "execution_count": 10,
     "metadata": {},
     "output_type": "execute_result"
    }
   ],
   "source": [
    "a.data, b.data, c.data, d.data # array memory location"
   ]
  },
  {
   "cell_type": "code",
   "execution_count": 11,
   "id": "c0a84747",
   "metadata": {},
   "outputs": [],
   "source": [
    "new = b.astype('i')"
   ]
  },
  {
   "cell_type": "code",
   "execution_count": 12,
   "id": "f4fe2f70",
   "metadata": {},
   "outputs": [
    {
     "data": {
      "text/plain": [
       "array([[1, 2, 3],\n",
       "       [4, 5, 6]], dtype=int32)"
      ]
     },
     "execution_count": 12,
     "metadata": {},
     "output_type": "execute_result"
    }
   ],
   "source": [
    "new"
   ]
  },
  {
   "cell_type": "code",
   "execution_count": 13,
   "id": "c05235bf",
   "metadata": {},
   "outputs": [],
   "source": [
    "new2 = new.copy()"
   ]
  },
  {
   "cell_type": "code",
   "execution_count": 14,
   "id": "25504f5a",
   "metadata": {},
   "outputs": [],
   "source": [
    "new3 = new.view()"
   ]
  },
  {
   "cell_type": "code",
   "execution_count": 15,
   "id": "9622e890",
   "metadata": {},
   "outputs": [
    {
     "data": {
      "text/plain": [
       "array([[1, 2, 3],\n",
       "       [4, 5, 6]], dtype=int32)"
      ]
     },
     "execution_count": 15,
     "metadata": {},
     "output_type": "execute_result"
    }
   ],
   "source": [
    "new2"
   ]
  },
  {
   "cell_type": "code",
   "execution_count": 16,
   "id": "8cf2eb90",
   "metadata": {},
   "outputs": [
    {
     "name": "stdout",
     "output_type": "stream",
     "text": [
      "None\n"
     ]
    }
   ],
   "source": [
    "print(new2.base)"
   ]
  },
  {
   "cell_type": "code",
   "execution_count": 17,
   "id": "37f8c6ee",
   "metadata": {},
   "outputs": [
    {
     "name": "stdout",
     "output_type": "stream",
     "text": [
      "[[1 2 3]\n",
      " [4 5 6]]\n"
     ]
    }
   ],
   "source": [
    "print(new3.base)"
   ]
  },
  {
   "cell_type": "markdown",
   "id": "25809a80",
   "metadata": {},
   "source": [
    "# Array Iterating "
   ]
  },
  {
   "cell_type": "code",
   "execution_count": 18,
   "id": "a0272074",
   "metadata": {},
   "outputs": [],
   "source": [
    "b2 = b.astype(int)"
   ]
  },
  {
   "cell_type": "code",
   "execution_count": 19,
   "id": "f1054ec3",
   "metadata": {},
   "outputs": [
    {
     "data": {
      "text/plain": [
       "array([[1, 2, 3],\n",
       "       [4, 5, 6]])"
      ]
     },
     "execution_count": 19,
     "metadata": {},
     "output_type": "execute_result"
    }
   ],
   "source": [
    "b2"
   ]
  },
  {
   "cell_type": "code",
   "execution_count": 20,
   "id": "d80dc343",
   "metadata": {},
   "outputs": [
    {
     "name": "stdout",
     "output_type": "stream",
     "text": [
      "[1 2 3]\n",
      "[4 5 6]\n"
     ]
    }
   ],
   "source": [
    "for x in b2:\n",
    "    print(x)"
   ]
  },
  {
   "cell_type": "code",
   "execution_count": 21,
   "id": "4588cbfe",
   "metadata": {},
   "outputs": [
    {
     "name": "stdout",
     "output_type": "stream",
     "text": [
      "1\n",
      "2\n",
      "3\n",
      "4\n",
      "5\n",
      "6\n"
     ]
    }
   ],
   "source": [
    "for x in b2:\n",
    "    for y in x:\n",
    "        print(y)"
   ]
  },
  {
   "cell_type": "code",
   "execution_count": 22,
   "id": "acd5fc20",
   "metadata": {},
   "outputs": [],
   "source": [
    "c2 = c.astype(int)"
   ]
  },
  {
   "cell_type": "code",
   "execution_count": 23,
   "id": "423b9dee",
   "metadata": {},
   "outputs": [
    {
     "data": {
      "text/plain": [
       "array([[[1, 2, 3],\n",
       "        [4, 5, 6]],\n",
       "\n",
       "       [[4, 5, 6],\n",
       "        [7, 8, 9]]])"
      ]
     },
     "execution_count": 23,
     "metadata": {},
     "output_type": "execute_result"
    }
   ],
   "source": [
    "c2"
   ]
  },
  {
   "cell_type": "code",
   "execution_count": 24,
   "id": "e067640f",
   "metadata": {},
   "outputs": [
    {
     "name": "stdout",
     "output_type": "stream",
     "text": [
      "[[1 2 3]\n",
      " [4 5 6]]\n",
      "[[4 5 6]\n",
      " [7 8 9]]\n"
     ]
    }
   ],
   "source": [
    "for x in c2:\n",
    "    print(x)"
   ]
  },
  {
   "cell_type": "markdown",
   "id": "81670c87",
   "metadata": {},
   "source": [
    "# Array Creation"
   ]
  },
  {
   "cell_type": "code",
   "execution_count": 25,
   "id": "45dd6427",
   "metadata": {},
   "outputs": [],
   "source": [
    "array1 = np.array([1,2,3], dtype = 'int')"
   ]
  },
  {
   "cell_type": "code",
   "execution_count": 26,
   "id": "3b43d610",
   "metadata": {},
   "outputs": [
    {
     "data": {
      "text/plain": [
       "array([1, 2, 3])"
      ]
     },
     "execution_count": 26,
     "metadata": {},
     "output_type": "execute_result"
    }
   ],
   "source": [
    "array1"
   ]
  },
  {
   "cell_type": "code",
   "execution_count": 27,
   "id": "d54f435c",
   "metadata": {},
   "outputs": [],
   "source": [
    "zeros = np.zeros((3,3), dtype='int')"
   ]
  },
  {
   "cell_type": "code",
   "execution_count": 28,
   "id": "ace75b6a",
   "metadata": {},
   "outputs": [
    {
     "data": {
      "text/plain": [
       "array([[0, 0, 0],\n",
       "       [0, 0, 0],\n",
       "       [0, 0, 0]])"
      ]
     },
     "execution_count": 28,
     "metadata": {},
     "output_type": "execute_result"
    }
   ],
   "source": [
    "zeros"
   ]
  },
  {
   "cell_type": "code",
   "execution_count": 29,
   "id": "67d3cf6b",
   "metadata": {},
   "outputs": [],
   "source": [
    "ones = np.ones((3,3), dtype = 'int')"
   ]
  },
  {
   "cell_type": "code",
   "execution_count": 30,
   "id": "ad4cde66",
   "metadata": {},
   "outputs": [
    {
     "data": {
      "text/plain": [
       "array([[1, 1, 1],\n",
       "       [1, 1, 1],\n",
       "       [1, 1, 1]])"
      ]
     },
     "execution_count": 30,
     "metadata": {},
     "output_type": "execute_result"
    }
   ],
   "source": [
    "ones"
   ]
  },
  {
   "cell_type": "code",
   "execution_count": 31,
   "id": "992e1c08",
   "metadata": {},
   "outputs": [],
   "source": [
    "full = np.full((3,3), 2)   # we can fill array by np.full()"
   ]
  },
  {
   "cell_type": "code",
   "execution_count": 32,
   "id": "45acf286",
   "metadata": {},
   "outputs": [
    {
     "data": {
      "text/plain": [
       "array([[2, 2, 2],\n",
       "       [2, 2, 2],\n",
       "       [2, 2, 2]])"
      ]
     },
     "execution_count": 32,
     "metadata": {},
     "output_type": "execute_result"
    }
   ],
   "source": [
    "full"
   ]
  },
  {
   "cell_type": "code",
   "execution_count": 33,
   "id": "d406a172",
   "metadata": {},
   "outputs": [],
   "source": [
    "identity = np.identity(3, dtype = 'int')   # identity matrix"
   ]
  },
  {
   "cell_type": "code",
   "execution_count": 34,
   "id": "6cfba3e1",
   "metadata": {},
   "outputs": [
    {
     "data": {
      "text/plain": [
       "array([[1, 0, 0],\n",
       "       [0, 1, 0],\n",
       "       [0, 0, 1]])"
      ]
     },
     "execution_count": 34,
     "metadata": {},
     "output_type": "execute_result"
    }
   ],
   "source": [
    "identity"
   ]
  },
  {
   "cell_type": "code",
   "execution_count": 35,
   "id": "6ee8f9a5",
   "metadata": {},
   "outputs": [],
   "source": [
    "eye = np.eye(3,3, 1, dtype = 'int')   # '1' here this value shift left or right from IDENTITY matrix"
   ]
  },
  {
   "cell_type": "code",
   "execution_count": 36,
   "id": "4ef24994",
   "metadata": {},
   "outputs": [
    {
     "data": {
      "text/plain": [
       "array([[0, 1, 0],\n",
       "       [0, 0, 1],\n",
       "       [0, 0, 0]])"
      ]
     },
     "execution_count": 36,
     "metadata": {},
     "output_type": "execute_result"
    }
   ],
   "source": [
    "eye"
   ]
  },
  {
   "cell_type": "code",
   "execution_count": 37,
   "id": "6acbf44d",
   "metadata": {},
   "outputs": [],
   "source": [
    "arange = np.arange(1, 30, 2)   # shift + tab in bracket"
   ]
  },
  {
   "cell_type": "code",
   "execution_count": 38,
   "id": "7213310b",
   "metadata": {},
   "outputs": [
    {
     "data": {
      "text/plain": [
       "array([ 1,  3,  5,  7,  9, 11, 13, 15, 17, 19, 21, 23, 25, 27, 29])"
      ]
     },
     "execution_count": 38,
     "metadata": {},
     "output_type": "execute_result"
    }
   ],
   "source": [
    "arange"
   ]
  },
  {
   "cell_type": "code",
   "execution_count": 39,
   "id": "8c70fe57",
   "metadata": {
    "scrolled": false
   },
   "outputs": [],
   "source": [
    "linspace = np.linspace(1, 10, 5)   # '5' devide 1 to 10 , 5 times"
   ]
  },
  {
   "cell_type": "code",
   "execution_count": 40,
   "id": "0d17bdd3",
   "metadata": {},
   "outputs": [
    {
     "data": {
      "text/plain": [
       "array([ 1.  ,  3.25,  5.5 ,  7.75, 10.  ])"
      ]
     },
     "execution_count": 40,
     "metadata": {},
     "output_type": "execute_result"
    }
   ],
   "source": [
    "linspace"
   ]
  },
  {
   "cell_type": "markdown",
   "id": "58bd4a72",
   "metadata": {},
   "source": [
    "# Array Indexing"
   ]
  },
  {
   "cell_type": "code",
   "execution_count": 41,
   "id": "ce5cf92d",
   "metadata": {},
   "outputs": [],
   "source": [
    "rand_arr = np.random.randint(1,10, size = (3,3))"
   ]
  },
  {
   "cell_type": "code",
   "execution_count": 42,
   "id": "0bca013c",
   "metadata": {},
   "outputs": [
    {
     "data": {
      "text/plain": [
       "array([[9, 1, 6],\n",
       "       [3, 6, 7],\n",
       "       [8, 8, 6]])"
      ]
     },
     "execution_count": 42,
     "metadata": {},
     "output_type": "execute_result"
    }
   ],
   "source": [
    "rand_arr"
   ]
  },
  {
   "cell_type": "code",
   "execution_count": 43,
   "id": "d245ba99",
   "metadata": {},
   "outputs": [
    {
     "data": {
      "text/plain": [
       "6"
      ]
     },
     "execution_count": 43,
     "metadata": {},
     "output_type": "execute_result"
    }
   ],
   "source": [
    "rand_arr [1,1]   # Calling 9"
   ]
  },
  {
   "cell_type": "code",
   "execution_count": 44,
   "id": "1dbd0427",
   "metadata": {},
   "outputs": [
    {
     "data": {
      "text/plain": [
       "6"
      ]
     },
     "execution_count": 44,
     "metadata": {},
     "output_type": "execute_result"
    }
   ],
   "source": [
    "rand_arr [1][1]   # Calling 9"
   ]
  },
  {
   "cell_type": "code",
   "execution_count": 45,
   "id": "f606a493",
   "metadata": {},
   "outputs": [],
   "source": [
    "array1_3d = np.array([[[1, 2, 3], [4, 5, 6]],\n",
    "                      [[7, 8, 9], [10, 11, 12]]])"
   ]
  },
  {
   "cell_type": "code",
   "execution_count": 46,
   "id": "ca0c0079",
   "metadata": {},
   "outputs": [
    {
     "data": {
      "text/plain": [
       "array([[[ 1,  2,  3],\n",
       "        [ 4,  5,  6]],\n",
       "\n",
       "       [[ 7,  8,  9],\n",
       "        [10, 11, 12]]])"
      ]
     },
     "execution_count": 46,
     "metadata": {},
     "output_type": "execute_result"
    }
   ],
   "source": [
    "array1_3d"
   ]
  },
  {
   "cell_type": "code",
   "execution_count": 47,
   "id": "3e00a44d",
   "metadata": {},
   "outputs": [
    {
     "data": {
      "text/plain": [
       "4"
      ]
     },
     "execution_count": 47,
     "metadata": {},
     "output_type": "execute_result"
    }
   ],
   "source": [
    "array1_3d[0,1,0]   # Accessing 3d Array"
   ]
  },
  {
   "cell_type": "code",
   "execution_count": 48,
   "id": "8cd3cded",
   "metadata": {},
   "outputs": [
    {
     "data": {
      "text/plain": [
       "4"
      ]
     },
     "execution_count": 48,
     "metadata": {},
     "output_type": "execute_result"
    }
   ],
   "source": [
    "array1_3d[0][1][0]"
   ]
  },
  {
   "cell_type": "code",
   "execution_count": 49,
   "id": "e8fbc630",
   "metadata": {},
   "outputs": [],
   "source": [
    "arr_3d = np.random.randint(1, 10, size = (2,3,3))  # Generating Array bu random number"
   ]
  },
  {
   "cell_type": "code",
   "execution_count": 50,
   "id": "72504232",
   "metadata": {},
   "outputs": [
    {
     "data": {
      "text/plain": [
       "array([[[7, 7, 6],\n",
       "        [9, 8, 9],\n",
       "        [5, 5, 9]],\n",
       "\n",
       "       [[3, 8, 3],\n",
       "        [1, 1, 9],\n",
       "        [8, 8, 6]]])"
      ]
     },
     "execution_count": 50,
     "metadata": {},
     "output_type": "execute_result"
    }
   ],
   "source": [
    "arr_3d"
   ]
  },
  {
   "cell_type": "markdown",
   "id": "495f207c",
   "metadata": {},
   "source": [
    "# Array Slicing"
   ]
  },
  {
   "cell_type": "code",
   "execution_count": 51,
   "id": "21b4c416",
   "metadata": {},
   "outputs": [
    {
     "data": {
      "text/plain": [
       "array([1, 2, 3])"
      ]
     },
     "execution_count": 51,
     "metadata": {},
     "output_type": "execute_result"
    }
   ],
   "source": [
    "a"
   ]
  },
  {
   "cell_type": "code",
   "execution_count": 52,
   "id": "0e3e3137",
   "metadata": {},
   "outputs": [
    {
     "data": {
      "text/plain": [
       "array([1, 2])"
      ]
     },
     "execution_count": 52,
     "metadata": {},
     "output_type": "execute_result"
    }
   ],
   "source": [
    "a[0:2] # '2' means up to two"
   ]
  },
  {
   "cell_type": "code",
   "execution_count": 53,
   "id": "a5bbe79b",
   "metadata": {},
   "outputs": [
    {
     "data": {
      "text/plain": [
       "array([2, 3])"
      ]
     },
     "execution_count": 53,
     "metadata": {},
     "output_type": "execute_result"
    }
   ],
   "source": [
    "a[1:]"
   ]
  },
  {
   "cell_type": "code",
   "execution_count": 54,
   "id": "aec70f60",
   "metadata": {},
   "outputs": [
    {
     "data": {
      "text/plain": [
       "array([[1, 1, 1],\n",
       "       [1, 1, 1],\n",
       "       [1, 1, 1]])"
      ]
     },
     "execution_count": 54,
     "metadata": {},
     "output_type": "execute_result"
    }
   ],
   "source": [
    "ones"
   ]
  },
  {
   "cell_type": "code",
   "execution_count": 55,
   "id": "815449d7",
   "metadata": {},
   "outputs": [
    {
     "data": {
      "text/plain": [
       "array([[1, 1, 1],\n",
       "       [1, 1, 1]])"
      ]
     },
     "execution_count": 55,
     "metadata": {},
     "output_type": "execute_result"
    }
   ],
   "source": [
    "ones[0:2]"
   ]
  },
  {
   "cell_type": "code",
   "execution_count": 56,
   "id": "aed99e8f",
   "metadata": {},
   "outputs": [
    {
     "data": {
      "text/plain": [
       "array([[1, 1, 1],\n",
       "       [1, 1, 1],\n",
       "       [1, 1, 1]])"
      ]
     },
     "execution_count": 56,
     "metadata": {},
     "output_type": "execute_result"
    }
   ],
   "source": [
    "ones"
   ]
  },
  {
   "cell_type": "code",
   "execution_count": 57,
   "id": "a6194bd5",
   "metadata": {},
   "outputs": [
    {
     "data": {
      "text/plain": [
       "array([[1, 1],\n",
       "       [1, 1]])"
      ]
     },
     "execution_count": 57,
     "metadata": {},
     "output_type": "execute_result"
    }
   ],
   "source": [
    "ones[0:2, 0:2]  # slicing cloumn"
   ]
  },
  {
   "cell_type": "code",
   "execution_count": 58,
   "id": "3a282bfc",
   "metadata": {},
   "outputs": [
    {
     "data": {
      "text/plain": [
       "array([[9, 1, 6],\n",
       "       [3, 6, 7],\n",
       "       [8, 8, 6]])"
      ]
     },
     "execution_count": 58,
     "metadata": {},
     "output_type": "execute_result"
    }
   ],
   "source": [
    "rand_arr"
   ]
  },
  {
   "cell_type": "code",
   "execution_count": 59,
   "id": "c3c6233f",
   "metadata": {},
   "outputs": [
    {
     "data": {
      "text/plain": [
       "array([[6, 7],\n",
       "       [8, 6]])"
      ]
     },
     "execution_count": 59,
     "metadata": {},
     "output_type": "execute_result"
    }
   ],
   "source": [
    "rand_arr[1:, 1:]    # wow"
   ]
  },
  {
   "cell_type": "markdown",
   "id": "d65ed541",
   "metadata": {},
   "source": [
    "# Manipilating Array Shapes"
   ]
  },
  {
   "cell_type": "markdown",
   "id": "576af1db",
   "metadata": {},
   "source": [
    "1. reshape()\n",
    "2. resize()\n",
    "3. flatten()\n",
    "4. ravel()"
   ]
  },
  {
   "cell_type": "markdown",
   "id": "c58d72fc",
   "metadata": {},
   "source": [
    "**reshape()**"
   ]
  },
  {
   "cell_type": "code",
   "execution_count": 60,
   "id": "21a9d227",
   "metadata": {},
   "outputs": [],
   "source": [
    "array_2d = np.array([[1,2,3],\n",
    "                    [4,5,6]])"
   ]
  },
  {
   "cell_type": "code",
   "execution_count": 61,
   "id": "a362a96f",
   "metadata": {},
   "outputs": [
    {
     "data": {
      "text/plain": [
       "(2, 3)"
      ]
     },
     "execution_count": 61,
     "metadata": {},
     "output_type": "execute_result"
    }
   ],
   "source": [
    "array_2d.shape"
   ]
  },
  {
   "cell_type": "code",
   "execution_count": 62,
   "id": "22726b40",
   "metadata": {},
   "outputs": [
    {
     "data": {
      "text/plain": [
       "array([[1, 2],\n",
       "       [3, 4],\n",
       "       [5, 6]])"
      ]
     },
     "execution_count": 62,
     "metadata": {},
     "output_type": "execute_result"
    }
   ],
   "source": [
    "array_2d.reshape(3,2)"
   ]
  },
  {
   "cell_type": "code",
   "execution_count": 63,
   "id": "1ee1819e",
   "metadata": {},
   "outputs": [
    {
     "data": {
      "text/plain": [
       "(2, 3)"
      ]
     },
     "execution_count": 63,
     "metadata": {},
     "output_type": "execute_result"
    }
   ],
   "source": [
    "array_2d.shape"
   ]
  },
  {
   "cell_type": "code",
   "execution_count": 64,
   "id": "294e14f2",
   "metadata": {},
   "outputs": [],
   "source": [
    "reshaped = np.reshape(array_2d, (3,2))"
   ]
  },
  {
   "cell_type": "code",
   "execution_count": 65,
   "id": "255a5421",
   "metadata": {},
   "outputs": [
    {
     "data": {
      "text/plain": [
       "array([[1, 2],\n",
       "       [3, 4],\n",
       "       [5, 6]])"
      ]
     },
     "execution_count": 65,
     "metadata": {},
     "output_type": "execute_result"
    }
   ],
   "source": [
    "reshaped"
   ]
  },
  {
   "cell_type": "code",
   "execution_count": 66,
   "id": "8bd9a8ef",
   "metadata": {},
   "outputs": [
    {
     "data": {
      "text/plain": [
       "(3, 2)"
      ]
     },
     "execution_count": 66,
     "metadata": {},
     "output_type": "execute_result"
    }
   ],
   "source": [
    "reshaped.shape"
   ]
  },
  {
   "cell_type": "markdown",
   "id": "b7eaba6e",
   "metadata": {},
   "source": [
    "**resize()**"
   ]
  },
  {
   "cell_type": "code",
   "execution_count": 67,
   "id": "d230ed7b",
   "metadata": {},
   "outputs": [
    {
     "data": {
      "text/plain": [
       "array([[1, 2, 3],\n",
       "       [4, 5, 6]])"
      ]
     },
     "execution_count": 67,
     "metadata": {},
     "output_type": "execute_result"
    }
   ],
   "source": [
    "array_2d"
   ]
  },
  {
   "cell_type": "code",
   "execution_count": 68,
   "id": "0de670e6",
   "metadata": {},
   "outputs": [],
   "source": [
    "resized = np.resize(array_2d, (3,3))"
   ]
  },
  {
   "cell_type": "code",
   "execution_count": 69,
   "id": "44a1af35",
   "metadata": {},
   "outputs": [
    {
     "data": {
      "text/plain": [
       "array([[1, 2, 3],\n",
       "       [4, 5, 6],\n",
       "       [1, 2, 3]])"
      ]
     },
     "execution_count": 69,
     "metadata": {},
     "output_type": "execute_result"
    }
   ],
   "source": [
    "resized"
   ]
  },
  {
   "cell_type": "code",
   "execution_count": 70,
   "id": "641b9ce7",
   "metadata": {},
   "outputs": [],
   "source": [
    "resized2 = np.resize(array_2d, (4,3))"
   ]
  },
  {
   "cell_type": "code",
   "execution_count": 71,
   "id": "93ad3ede",
   "metadata": {},
   "outputs": [
    {
     "data": {
      "text/plain": [
       "array([[1, 2, 3],\n",
       "       [4, 5, 6],\n",
       "       [1, 2, 3],\n",
       "       [4, 5, 6]])"
      ]
     },
     "execution_count": 71,
     "metadata": {},
     "output_type": "execute_result"
    }
   ],
   "source": [
    "resized2   # array repeating"
   ]
  },
  {
   "cell_type": "markdown",
   "id": "ad1f75af",
   "metadata": {},
   "source": [
    "**ravel()**"
   ]
  },
  {
   "cell_type": "code",
   "execution_count": 72,
   "id": "b89747c3",
   "metadata": {},
   "outputs": [],
   "source": [
    "rav = np.random.randint(1, 10, (2,3), dtype = 'int')"
   ]
  },
  {
   "cell_type": "code",
   "execution_count": 73,
   "id": "31da68aa",
   "metadata": {},
   "outputs": [
    {
     "data": {
      "text/plain": [
       "array([[3, 3, 1],\n",
       "       [1, 8, 4]])"
      ]
     },
     "execution_count": 73,
     "metadata": {},
     "output_type": "execute_result"
    }
   ],
   "source": [
    "rav"
   ]
  },
  {
   "cell_type": "code",
   "execution_count": 74,
   "id": "45c004a7",
   "metadata": {},
   "outputs": [],
   "source": [
    "raveled = np.ravel(rav)"
   ]
  },
  {
   "cell_type": "code",
   "execution_count": 75,
   "id": "e56673cc",
   "metadata": {},
   "outputs": [
    {
     "data": {
      "text/plain": [
       "array([3, 3, 1, 1, 8, 4])"
      ]
     },
     "execution_count": 75,
     "metadata": {},
     "output_type": "execute_result"
    }
   ],
   "source": [
    "raveled       # this converts to 1d array"
   ]
  },
  {
   "cell_type": "code",
   "execution_count": 76,
   "id": "8a3391d6",
   "metadata": {},
   "outputs": [
    {
     "data": {
      "text/plain": [
       "(6,)"
      ]
     },
     "execution_count": 76,
     "metadata": {},
     "output_type": "execute_result"
    }
   ],
   "source": [
    "raveled.shape"
   ]
  },
  {
   "cell_type": "code",
   "execution_count": 77,
   "id": "33536dfb",
   "metadata": {},
   "outputs": [
    {
     "data": {
      "text/plain": [
       "array([[3, 3, 1],\n",
       "       [1, 8, 4]])"
      ]
     },
     "execution_count": 77,
     "metadata": {},
     "output_type": "execute_result"
    }
   ],
   "source": [
    "rav"
   ]
  },
  {
   "cell_type": "code",
   "execution_count": 78,
   "id": "224095e8",
   "metadata": {},
   "outputs": [
    {
     "data": {
      "text/plain": [
       "array([3, 3, 1, 1, 8, 4])"
      ]
     },
     "execution_count": 78,
     "metadata": {},
     "output_type": "execute_result"
    }
   ],
   "source": [
    "raveled"
   ]
  },
  {
   "cell_type": "code",
   "execution_count": 79,
   "id": "0f71f3e4",
   "metadata": {},
   "outputs": [],
   "source": [
    "raveled[0] = 0"
   ]
  },
  {
   "cell_type": "code",
   "execution_count": 80,
   "id": "75d57807",
   "metadata": {},
   "outputs": [
    {
     "data": {
      "text/plain": [
       "array([0, 3, 1, 1, 8, 4])"
      ]
     },
     "execution_count": 80,
     "metadata": {},
     "output_type": "execute_result"
    }
   ],
   "source": [
    "raveled  # in ravel() we can change the elements , real array =(rav), আসল অ্যারে"
   ]
  },
  {
   "cell_type": "code",
   "execution_count": 81,
   "id": "8bf6d1b8",
   "metadata": {},
   "outputs": [
    {
     "data": {
      "text/plain": [
       "array([[0, 3, 1],\n",
       "       [1, 8, 4]])"
      ]
     },
     "execution_count": 81,
     "metadata": {},
     "output_type": "execute_result"
    }
   ],
   "source": [
    "rav"
   ]
  },
  {
   "cell_type": "markdown",
   "id": "8fb4de1a",
   "metadata": {},
   "source": [
    "**flatten()**"
   ]
  },
  {
   "cell_type": "code",
   "execution_count": 82,
   "id": "86ffd7d3",
   "metadata": {},
   "outputs": [
    {
     "data": {
      "text/plain": [
       "array([[0, 3, 1],\n",
       "       [1, 8, 4]])"
      ]
     },
     "execution_count": 82,
     "metadata": {},
     "output_type": "execute_result"
    }
   ],
   "source": [
    "rav"
   ]
  },
  {
   "cell_type": "code",
   "execution_count": 83,
   "id": "579fc2cc",
   "metadata": {},
   "outputs": [],
   "source": [
    "flattened = rav.flatten()    # return a copy of array, always allocates new memory"
   ]
  },
  {
   "cell_type": "code",
   "execution_count": 84,
   "id": "7a32a432",
   "metadata": {},
   "outputs": [
    {
     "data": {
      "text/plain": [
       "array([0, 3, 1, 1, 8, 4])"
      ]
     },
     "execution_count": 84,
     "metadata": {},
     "output_type": "execute_result"
    }
   ],
   "source": [
    "flattened     # it also makes a 1d array"
   ]
  },
  {
   "cell_type": "code",
   "execution_count": 85,
   "id": "d3190e9e",
   "metadata": {},
   "outputs": [],
   "source": [
    "flattened[1] = 0"
   ]
  },
  {
   "cell_type": "code",
   "execution_count": 86,
   "id": "a8c4eded",
   "metadata": {},
   "outputs": [
    {
     "data": {
      "text/plain": [
       "array([0, 0, 1, 1, 8, 4])"
      ]
     },
     "execution_count": 86,
     "metadata": {},
     "output_type": "execute_result"
    }
   ],
   "source": [
    "flattened"
   ]
  },
  {
   "cell_type": "code",
   "execution_count": 87,
   "id": "4e8b0900",
   "metadata": {},
   "outputs": [
    {
     "data": {
      "text/plain": [
       "array([[0, 3, 1],\n",
       "       [1, 8, 4]])"
      ]
     },
     "execution_count": 87,
     "metadata": {},
     "output_type": "execute_result"
    }
   ],
   "source": [
    "rav     # flatten can't change REAL array"
   ]
  },
  {
   "cell_type": "markdown",
   "id": "2ab52d21",
   "metadata": {},
   "source": [
    "# Stacking\n",
    "| Function | Description |\n",
    "|---|---|\n",
    "| `vstack()` | This function stacks arrays vertically. |\n",
    "| `dstack()` | This function stacks arrays depth-wise along the third axis. |\n",
    "| `hstack()` | This function stacks arrays horizontally. |\n",
    "| `column_stack()` | This function stacks one-dimensional arrays as columns to create a two-dimensional array. |\n",
    "| `row_stack()` | This function stacks arrays vertically. |\n",
    "| `concatenate()` | This function concatenates a list or a tuple of arrays. |\n"
   ]
  },
  {
   "cell_type": "markdown",
   "id": "252c63c2",
   "metadata": {},
   "source": [
    "**Horizontal Stack**"
   ]
  },
  {
   "cell_type": "code",
   "execution_count": 88,
   "id": "48f9b3c8",
   "metadata": {},
   "outputs": [],
   "source": [
    "aa = np.arange(1, 10).reshape(3,3)"
   ]
  },
  {
   "cell_type": "code",
   "execution_count": 89,
   "id": "0d9337df",
   "metadata": {},
   "outputs": [
    {
     "data": {
      "text/plain": [
       "array([[1, 2, 3],\n",
       "       [4, 5, 6],\n",
       "       [7, 8, 9]])"
      ]
     },
     "execution_count": 89,
     "metadata": {},
     "output_type": "execute_result"
    }
   ],
   "source": [
    "aa"
   ]
  },
  {
   "cell_type": "code",
   "execution_count": 90,
   "id": "88363bab",
   "metadata": {},
   "outputs": [],
   "source": [
    "bb = aa * 2"
   ]
  },
  {
   "cell_type": "code",
   "execution_count": 91,
   "id": "8915ccad",
   "metadata": {},
   "outputs": [
    {
     "data": {
      "text/plain": [
       "array([[ 2,  4,  6],\n",
       "       [ 8, 10, 12],\n",
       "       [14, 16, 18]])"
      ]
     },
     "execution_count": 91,
     "metadata": {},
     "output_type": "execute_result"
    }
   ],
   "source": [
    "bb"
   ]
  },
  {
   "cell_type": "code",
   "execution_count": 92,
   "id": "1a60199f",
   "metadata": {},
   "outputs": [
    {
     "data": {
      "text/plain": [
       "array([1, 2, 3, 4, 5, 6, 7, 8, 9])"
      ]
     },
     "execution_count": 92,
     "metadata": {},
     "output_type": "execute_result"
    }
   ],
   "source": [
    "np.hstack(aa)"
   ]
  },
  {
   "cell_type": "code",
   "execution_count": 93,
   "id": "d7bdaa7d",
   "metadata": {},
   "outputs": [
    {
     "data": {
      "text/plain": [
       "array([[ 1,  2,  3,  2,  4,  6],\n",
       "       [ 4,  5,  6,  8, 10, 12],\n",
       "       [ 7,  8,  9, 14, 16, 18]])"
      ]
     },
     "execution_count": 93,
     "metadata": {},
     "output_type": "execute_result"
    }
   ],
   "source": [
    "np.hstack((aa, bb))"
   ]
  },
  {
   "cell_type": "code",
   "execution_count": 94,
   "id": "7aa15fa7",
   "metadata": {},
   "outputs": [
    {
     "data": {
      "text/plain": [
       "array([[ 1,  2,  3,  2,  4,  6],\n",
       "       [ 4,  5,  6,  8, 10, 12],\n",
       "       [ 7,  8,  9, 14, 16, 18]])"
      ]
     },
     "execution_count": 94,
     "metadata": {},
     "output_type": "execute_result"
    }
   ],
   "source": [
    "np.column_stack((aa, bb))"
   ]
  },
  {
   "cell_type": "code",
   "execution_count": 95,
   "id": "d8316187",
   "metadata": {},
   "outputs": [
    {
     "data": {
      "text/plain": [
       "array([[ 1,  2,  3,  2,  4,  6],\n",
       "       [ 4,  5,  6,  8, 10, 12],\n",
       "       [ 7,  8,  9, 14, 16, 18]])"
      ]
     },
     "execution_count": 95,
     "metadata": {},
     "output_type": "execute_result"
    }
   ],
   "source": [
    "np.concatenate((aa, bb), axis = 1)"
   ]
  },
  {
   "cell_type": "markdown",
   "id": "82b4bbe8",
   "metadata": {},
   "source": [
    "**Verticle Stack**"
   ]
  },
  {
   "cell_type": "code",
   "execution_count": 96,
   "id": "f10f798b",
   "metadata": {},
   "outputs": [
    {
     "data": {
      "text/plain": [
       "array([[ 1,  2,  3],\n",
       "       [ 4,  5,  6],\n",
       "       [ 7,  8,  9],\n",
       "       [ 2,  4,  6],\n",
       "       [ 8, 10, 12],\n",
       "       [14, 16, 18]])"
      ]
     },
     "execution_count": 96,
     "metadata": {},
     "output_type": "execute_result"
    }
   ],
   "source": [
    "np.vstack((aa, bb))"
   ]
  },
  {
   "cell_type": "code",
   "execution_count": 97,
   "id": "d42c0cac",
   "metadata": {},
   "outputs": [
    {
     "data": {
      "text/plain": [
       "array([[ 1,  2,  3],\n",
       "       [ 4,  5,  6],\n",
       "       [ 7,  8,  9],\n",
       "       [ 2,  4,  6],\n",
       "       [ 8, 10, 12],\n",
       "       [14, 16, 18]])"
      ]
     },
     "execution_count": 97,
     "metadata": {},
     "output_type": "execute_result"
    }
   ],
   "source": [
    "np.row_stack((aa, bb))"
   ]
  },
  {
   "cell_type": "code",
   "execution_count": 98,
   "id": "0606a26e",
   "metadata": {},
   "outputs": [
    {
     "data": {
      "text/plain": [
       "array([[ 1,  2,  3],\n",
       "       [ 4,  5,  6],\n",
       "       [ 7,  8,  9],\n",
       "       [ 2,  4,  6],\n",
       "       [ 8, 10, 12],\n",
       "       [14, 16, 18]])"
      ]
     },
     "execution_count": 98,
     "metadata": {},
     "output_type": "execute_result"
    }
   ],
   "source": [
    "np.concatenate((aa, bb), axis = 0)"
   ]
  },
  {
   "cell_type": "markdown",
   "id": "a2937e57",
   "metadata": {},
   "source": [
    "**Depth Stack**"
   ]
  },
  {
   "cell_type": "code",
   "execution_count": 99,
   "id": "557525ea",
   "metadata": {},
   "outputs": [
    {
     "data": {
      "text/plain": [
       "array([[[ 1,  2],\n",
       "        [ 2,  4],\n",
       "        [ 3,  6]],\n",
       "\n",
       "       [[ 4,  8],\n",
       "        [ 5, 10],\n",
       "        [ 6, 12]],\n",
       "\n",
       "       [[ 7, 14],\n",
       "        [ 8, 16],\n",
       "        [ 9, 18]]])"
      ]
     },
     "execution_count": 99,
     "metadata": {},
     "output_type": "execute_result"
    }
   ],
   "source": [
    "np.dstack((aa, bb))"
   ]
  },
  {
   "cell_type": "markdown",
   "id": "505c57bc",
   "metadata": {},
   "source": [
    "# Creating the Filter Array\n"
   ]
  },
  {
   "cell_type": "code",
   "execution_count": 100,
   "id": "db4bcf6a",
   "metadata": {},
   "outputs": [
    {
     "data": {
      "text/plain": [
       "array([ 1,  3,  5,  7,  9, 11, 13, 15, 17, 19, 21, 23, 25, 27, 29])"
      ]
     },
     "execution_count": 100,
     "metadata": {},
     "output_type": "execute_result"
    }
   ],
   "source": [
    "arange"
   ]
  },
  {
   "cell_type": "code",
   "execution_count": 106,
   "id": "75133a30",
   "metadata": {},
   "outputs": [
    {
     "name": "stdout",
     "output_type": "stream",
     "text": [
      "[ 3  9 15 21 27]\n"
     ]
    }
   ],
   "source": [
    "# returning which number is devided by 3\n",
    "\n",
    "filter_arr = []\n",
    "\n",
    "for i in arange:\n",
    "    if (i % 3 == 0):\n",
    "        filter_arr.append(True)\n",
    "    else:\n",
    "        filter_arr.append(False)\n",
    "\n",
    "new_array = arange[filter_arr]\n",
    "\n",
    "print(new_array)"
   ]
  },
  {
   "cell_type": "code",
   "execution_count": null,
   "id": "be76ab4e",
   "metadata": {},
   "outputs": [],
   "source": []
  }
 ],
 "metadata": {
  "kernelspec": {
   "display_name": "Python 3 (ipykernel)",
   "language": "python",
   "name": "python3"
  },
  "language_info": {
   "codemirror_mode": {
    "name": "ipython",
    "version": 3
   },
   "file_extension": ".py",
   "mimetype": "text/x-python",
   "name": "python",
   "nbconvert_exporter": "python",
   "pygments_lexer": "ipython3",
   "version": "3.10.9"
  }
 },
 "nbformat": 4,
 "nbformat_minor": 5
}
